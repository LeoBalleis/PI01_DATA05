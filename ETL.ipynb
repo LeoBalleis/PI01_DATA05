{
 "cells": [
  {
   "cell_type": "code",
   "execution_count": 163,
   "metadata": {},
   "outputs": [],
   "source": [
    "#Importo las librerías a utilizar\n",
    "import pandas as pd\n"
   ]
  },
  {
   "cell_type": "code",
   "execution_count": 164,
   "metadata": {},
   "outputs": [],
   "source": [
    "#Armo el dataset de amazon\n",
    "amazon_titles = pd.read_csv(r\"app\\amazon_prime_titles.csv\",delimiter = ',',encoding = \"utf-8\")"
   ]
  },
  {
   "cell_type": "code",
   "execution_count": 165,
   "metadata": {},
   "outputs": [],
   "source": [
    "#Elimino las columnas que no me servirán para las consultas indicadas.\n",
    "amazon_titles.drop(columns=['show_id','director','country','rating','description','date_added'], inplace=True)"
   ]
  },
  {
   "cell_type": "code",
   "execution_count": 166,
   "metadata": {},
   "outputs": [
    {
     "data": {
      "text/plain": [
       "type               0\n",
       "title              0\n",
       "cast            1233\n",
       "release_year       0\n",
       "duration           0\n",
       "listed_in          0\n",
       "dtype: int64"
      ]
     },
     "execution_count": 166,
     "metadata": {},
     "output_type": "execute_result"
    }
   ],
   "source": [
    "#Comienzo un análisis general de mis datasets para saber cuántos datos faltantes (None/NaN/null) y datos repetidos se encuentran para luego eliminarlos.\n",
    "amazon_titles.isna().sum()"
   ]
  },
  {
   "cell_type": "code",
   "execution_count": 167,
   "metadata": {},
   "outputs": [],
   "source": [
    "#Reemplazo mis valores nulos por \"Sin datos\" en lugar de eliminarlos para no perder información\n",
    "amazon_titles.fillna( 'SinDatos',inplace=True)"
   ]
  },
  {
   "cell_type": "code",
   "execution_count": 168,
   "metadata": {},
   "outputs": [],
   "source": [
    "# Agrego una columna para identificar la Plataforma\n",
    "amazon_titles = amazon_titles.assign(Plataforma=\"amazon\")"
   ]
  },
  {
   "cell_type": "code",
   "execution_count": 169,
   "metadata": {},
   "outputs": [
    {
     "name": "stdout",
     "output_type": "stream",
     "text": [
      "<class 'pandas.core.frame.DataFrame'>\n",
      "RangeIndex: 9668 entries, 0 to 9667\n",
      "Data columns (total 7 columns):\n",
      " #   Column        Non-Null Count  Dtype \n",
      "---  ------        --------------  ----- \n",
      " 0   type          9668 non-null   object\n",
      " 1   title         9668 non-null   object\n",
      " 2   cast          9668 non-null   object\n",
      " 3   release_year  9668 non-null   int64 \n",
      " 4   duration      9668 non-null   object\n",
      " 5   listed_in     9668 non-null   object\n",
      " 6   Plataforma    9668 non-null   object\n",
      "dtypes: int64(1), object(6)\n",
      "memory usage: 528.8+ KB\n"
     ]
    }
   ],
   "source": [
    "amazon_titles.info()"
   ]
  },
  {
   "cell_type": "markdown",
   "metadata": {},
   "source": [
    "##DF DISNEY"
   ]
  },
  {
   "cell_type": "code",
   "execution_count": 170,
   "metadata": {},
   "outputs": [
    {
     "data": {
      "text/html": [
       "<div>\n",
       "<style scoped>\n",
       "    .dataframe tbody tr th:only-of-type {\n",
       "        vertical-align: middle;\n",
       "    }\n",
       "\n",
       "    .dataframe tbody tr th {\n",
       "        vertical-align: top;\n",
       "    }\n",
       "\n",
       "    .dataframe thead th {\n",
       "        text-align: right;\n",
       "    }\n",
       "</style>\n",
       "<table border=\"1\" class=\"dataframe\">\n",
       "  <thead>\n",
       "    <tr style=\"text-align: right;\">\n",
       "      <th></th>\n",
       "      <th>show_id</th>\n",
       "      <th>type</th>\n",
       "      <th>title</th>\n",
       "      <th>director</th>\n",
       "      <th>cast</th>\n",
       "      <th>country</th>\n",
       "      <th>date_added</th>\n",
       "      <th>release_year</th>\n",
       "      <th>rating</th>\n",
       "      <th>duration</th>\n",
       "      <th>listed_in</th>\n",
       "      <th>description</th>\n",
       "    </tr>\n",
       "  </thead>\n",
       "  <tbody>\n",
       "    <tr>\n",
       "      <th>0</th>\n",
       "      <td>s1</td>\n",
       "      <td>Movie</td>\n",
       "      <td>Duck the Halls: A Mickey Mouse Christmas Special</td>\n",
       "      <td>Alonso Ramirez Ramos, Dave Wasson</td>\n",
       "      <td>Chris Diamantopoulos, Tony Anselmo, Tress MacN...</td>\n",
       "      <td>NaN</td>\n",
       "      <td>November 26, 2021</td>\n",
       "      <td>2016</td>\n",
       "      <td>TV-G</td>\n",
       "      <td>23 min</td>\n",
       "      <td>Animation, Family</td>\n",
       "      <td>Join Mickey and the gang as they duck the halls!</td>\n",
       "    </tr>\n",
       "  </tbody>\n",
       "</table>\n",
       "</div>"
      ],
      "text/plain": [
       "  show_id   type                                             title  \\\n",
       "0      s1  Movie  Duck the Halls: A Mickey Mouse Christmas Special   \n",
       "\n",
       "                            director  \\\n",
       "0  Alonso Ramirez Ramos, Dave Wasson   \n",
       "\n",
       "                                                cast country  \\\n",
       "0  Chris Diamantopoulos, Tony Anselmo, Tress MacN...     NaN   \n",
       "\n",
       "          date_added  release_year rating duration          listed_in  \\\n",
       "0  November 26, 2021          2016   TV-G   23 min  Animation, Family   \n",
       "\n",
       "                                        description  \n",
       "0  Join Mickey and the gang as they duck the halls!  "
      ]
     },
     "execution_count": 170,
     "metadata": {},
     "output_type": "execute_result"
    }
   ],
   "source": [
    "disney_plus_titles = pd.read_csv(r\"app\\disney_plus_titles.csv\",delimiter = ',',encoding = \"utf-8\")\n",
    "disney_plus_titles.head(1\n",
    ")"
   ]
  },
  {
   "cell_type": "code",
   "execution_count": 171,
   "metadata": {},
   "outputs": [
    {
     "name": "stdout",
     "output_type": "stream",
     "text": [
      "<class 'pandas.core.frame.DataFrame'>\n",
      "RangeIndex: 1450 entries, 0 to 1449\n",
      "Data columns (total 12 columns):\n",
      " #   Column        Non-Null Count  Dtype \n",
      "---  ------        --------------  ----- \n",
      " 0   show_id       1450 non-null   object\n",
      " 1   type          1450 non-null   object\n",
      " 2   title         1450 non-null   object\n",
      " 3   director      977 non-null    object\n",
      " 4   cast          1260 non-null   object\n",
      " 5   country       1231 non-null   object\n",
      " 6   date_added    1447 non-null   object\n",
      " 7   release_year  1450 non-null   int64 \n",
      " 8   rating        1447 non-null   object\n",
      " 9   duration      1450 non-null   object\n",
      " 10  listed_in     1450 non-null   object\n",
      " 11  description   1450 non-null   object\n",
      "dtypes: int64(1), object(11)\n",
      "memory usage: 136.1+ KB\n"
     ]
    }
   ],
   "source": [
    "disney_plus_titles.info()"
   ]
  },
  {
   "cell_type": "code",
   "execution_count": 172,
   "metadata": {},
   "outputs": [],
   "source": [
    "#Elimino las columnas que no me servirán para las consultas indicadas.\n",
    "disney_plus_titles.drop(columns=['show_id','director','country','rating','description','date_added'], inplace=True)"
   ]
  },
  {
   "cell_type": "code",
   "execution_count": 173,
   "metadata": {},
   "outputs": [],
   "source": [
    "#Reemplazo mis valores nulos por \"Sin datos\" en lugar de eliminarlos para no perder información\n",
    "disney_plus_titles.fillna( 'SinDatos',inplace=True)"
   ]
  },
  {
   "cell_type": "code",
   "execution_count": 174,
   "metadata": {},
   "outputs": [],
   "source": [
    "# Agrego una columna para identificar la Plataforma\n",
    "disney_plus_titles=disney_plus_titles.assign(Plataforma=\"disney\")"
   ]
  },
  {
   "cell_type": "code",
   "execution_count": 175,
   "metadata": {},
   "outputs": [
    {
     "data": {
      "text/html": [
       "<div>\n",
       "<style scoped>\n",
       "    .dataframe tbody tr th:only-of-type {\n",
       "        vertical-align: middle;\n",
       "    }\n",
       "\n",
       "    .dataframe tbody tr th {\n",
       "        vertical-align: top;\n",
       "    }\n",
       "\n",
       "    .dataframe thead th {\n",
       "        text-align: right;\n",
       "    }\n",
       "</style>\n",
       "<table border=\"1\" class=\"dataframe\">\n",
       "  <thead>\n",
       "    <tr style=\"text-align: right;\">\n",
       "      <th></th>\n",
       "      <th>type</th>\n",
       "      <th>title</th>\n",
       "      <th>cast</th>\n",
       "      <th>release_year</th>\n",
       "      <th>duration</th>\n",
       "      <th>listed_in</th>\n",
       "      <th>Plataforma</th>\n",
       "    </tr>\n",
       "  </thead>\n",
       "  <tbody>\n",
       "    <tr>\n",
       "      <th>0</th>\n",
       "      <td>Movie</td>\n",
       "      <td>Duck the Halls: A Mickey Mouse Christmas Special</td>\n",
       "      <td>Chris Diamantopoulos, Tony Anselmo, Tress MacN...</td>\n",
       "      <td>2016</td>\n",
       "      <td>23 min</td>\n",
       "      <td>Animation, Family</td>\n",
       "      <td>disney</td>\n",
       "    </tr>\n",
       "    <tr>\n",
       "      <th>1</th>\n",
       "      <td>Movie</td>\n",
       "      <td>Ernest Saves Christmas</td>\n",
       "      <td>Jim Varney, Noelle Parker, Douglas Seale</td>\n",
       "      <td>1988</td>\n",
       "      <td>91 min</td>\n",
       "      <td>Comedy</td>\n",
       "      <td>disney</td>\n",
       "    </tr>\n",
       "    <tr>\n",
       "      <th>2</th>\n",
       "      <td>Movie</td>\n",
       "      <td>Ice Age: A Mammoth Christmas</td>\n",
       "      <td>Raymond Albert Romano, John Leguizamo, Denis L...</td>\n",
       "      <td>2011</td>\n",
       "      <td>23 min</td>\n",
       "      <td>Animation, Comedy, Family</td>\n",
       "      <td>disney</td>\n",
       "    </tr>\n",
       "    <tr>\n",
       "      <th>3</th>\n",
       "      <td>Movie</td>\n",
       "      <td>The Queen Family Singalong</td>\n",
       "      <td>Darren Criss, Adam Lambert, Derek Hough, Alexa...</td>\n",
       "      <td>2021</td>\n",
       "      <td>41 min</td>\n",
       "      <td>Musical</td>\n",
       "      <td>disney</td>\n",
       "    </tr>\n",
       "    <tr>\n",
       "      <th>4</th>\n",
       "      <td>TV Show</td>\n",
       "      <td>The Beatles: Get Back</td>\n",
       "      <td>John Lennon, Paul McCartney, George Harrison, ...</td>\n",
       "      <td>2021</td>\n",
       "      <td>1 Season</td>\n",
       "      <td>Docuseries, Historical, Music</td>\n",
       "      <td>disney</td>\n",
       "    </tr>\n",
       "    <tr>\n",
       "      <th>...</th>\n",
       "      <td>...</td>\n",
       "      <td>...</td>\n",
       "      <td>...</td>\n",
       "      <td>...</td>\n",
       "      <td>...</td>\n",
       "      <td>...</td>\n",
       "      <td>...</td>\n",
       "    </tr>\n",
       "    <tr>\n",
       "      <th>1445</th>\n",
       "      <td>Movie</td>\n",
       "      <td>X-Men Origins: Wolverine</td>\n",
       "      <td>Hugh Jackman, Liev Schreiber, Danny Huston, wi...</td>\n",
       "      <td>2009</td>\n",
       "      <td>108 min</td>\n",
       "      <td>Action-Adventure, Family, Science Fiction</td>\n",
       "      <td>disney</td>\n",
       "    </tr>\n",
       "    <tr>\n",
       "      <th>1446</th>\n",
       "      <td>Movie</td>\n",
       "      <td>Night at the Museum: Battle of the Smithsonian</td>\n",
       "      <td>Ben Stiller, Amy Adams, Owen Wilson, Hank Azar...</td>\n",
       "      <td>2009</td>\n",
       "      <td>106 min</td>\n",
       "      <td>Action-Adventure, Comedy, Family</td>\n",
       "      <td>disney</td>\n",
       "    </tr>\n",
       "    <tr>\n",
       "      <th>1447</th>\n",
       "      <td>Movie</td>\n",
       "      <td>Eddie the Eagle</td>\n",
       "      <td>Tom Costello, Jo Hartley, Keith Allen, Dickon ...</td>\n",
       "      <td>2016</td>\n",
       "      <td>107 min</td>\n",
       "      <td>Biographical, Comedy, Drama</td>\n",
       "      <td>disney</td>\n",
       "    </tr>\n",
       "    <tr>\n",
       "      <th>1448</th>\n",
       "      <td>Movie</td>\n",
       "      <td>Bend It Like Beckham</td>\n",
       "      <td>Parminder Nagra, Keira Knightley, Jonathan Rhy...</td>\n",
       "      <td>2003</td>\n",
       "      <td>112 min</td>\n",
       "      <td>Buddy, Comedy, Coming of Age</td>\n",
       "      <td>disney</td>\n",
       "    </tr>\n",
       "    <tr>\n",
       "      <th>1449</th>\n",
       "      <td>Movie</td>\n",
       "      <td>Captain Sparky vs. The Flying Saucers</td>\n",
       "      <td>Charlie Tahan</td>\n",
       "      <td>2012</td>\n",
       "      <td>2 min</td>\n",
       "      <td>Action-Adventure, Animals &amp; Nature, Animation</td>\n",
       "      <td>disney</td>\n",
       "    </tr>\n",
       "  </tbody>\n",
       "</table>\n",
       "<p>1450 rows × 7 columns</p>\n",
       "</div>"
      ],
      "text/plain": [
       "         type                                             title  \\\n",
       "0       Movie  Duck the Halls: A Mickey Mouse Christmas Special   \n",
       "1       Movie                            Ernest Saves Christmas   \n",
       "2       Movie                      Ice Age: A Mammoth Christmas   \n",
       "3       Movie                        The Queen Family Singalong   \n",
       "4     TV Show                             The Beatles: Get Back   \n",
       "...       ...                                               ...   \n",
       "1445    Movie                          X-Men Origins: Wolverine   \n",
       "1446    Movie    Night at the Museum: Battle of the Smithsonian   \n",
       "1447    Movie                                   Eddie the Eagle   \n",
       "1448    Movie                              Bend It Like Beckham   \n",
       "1449    Movie             Captain Sparky vs. The Flying Saucers   \n",
       "\n",
       "                                                   cast  release_year  \\\n",
       "0     Chris Diamantopoulos, Tony Anselmo, Tress MacN...          2016   \n",
       "1              Jim Varney, Noelle Parker, Douglas Seale          1988   \n",
       "2     Raymond Albert Romano, John Leguizamo, Denis L...          2011   \n",
       "3     Darren Criss, Adam Lambert, Derek Hough, Alexa...          2021   \n",
       "4     John Lennon, Paul McCartney, George Harrison, ...          2021   \n",
       "...                                                 ...           ...   \n",
       "1445  Hugh Jackman, Liev Schreiber, Danny Huston, wi...          2009   \n",
       "1446  Ben Stiller, Amy Adams, Owen Wilson, Hank Azar...          2009   \n",
       "1447  Tom Costello, Jo Hartley, Keith Allen, Dickon ...          2016   \n",
       "1448  Parminder Nagra, Keira Knightley, Jonathan Rhy...          2003   \n",
       "1449                                      Charlie Tahan          2012   \n",
       "\n",
       "      duration                                      listed_in Plataforma  \n",
       "0       23 min                              Animation, Family     disney  \n",
       "1       91 min                                         Comedy     disney  \n",
       "2       23 min                      Animation, Comedy, Family     disney  \n",
       "3       41 min                                        Musical     disney  \n",
       "4     1 Season                  Docuseries, Historical, Music     disney  \n",
       "...        ...                                            ...        ...  \n",
       "1445   108 min      Action-Adventure, Family, Science Fiction     disney  \n",
       "1446   106 min               Action-Adventure, Comedy, Family     disney  \n",
       "1447   107 min                    Biographical, Comedy, Drama     disney  \n",
       "1448   112 min                   Buddy, Comedy, Coming of Age     disney  \n",
       "1449     2 min  Action-Adventure, Animals & Nature, Animation     disney  \n",
       "\n",
       "[1450 rows x 7 columns]"
      ]
     },
     "execution_count": 175,
     "metadata": {},
     "output_type": "execute_result"
    }
   ],
   "source": [
    "disney_plus_titles"
   ]
  },
  {
   "cell_type": "markdown",
   "metadata": {},
   "source": [
    "##DF Hulu"
   ]
  },
  {
   "cell_type": "code",
   "execution_count": 176,
   "metadata": {},
   "outputs": [],
   "source": [
    "hulu_titles=pd.read_csv(r\"app\\hulu_titles.csv\",delimiter = ',',encoding = \"utf-8\")"
   ]
  },
  {
   "cell_type": "code",
   "execution_count": 177,
   "metadata": {},
   "outputs": [],
   "source": [
    "#Elimino las columnas que no me servirán para las consultas indicadas.\n",
    "hulu_titles.drop(columns=['show_id','director','country','rating','description','date_added'], inplace=True)"
   ]
  },
  {
   "cell_type": "code",
   "execution_count": 178,
   "metadata": {},
   "outputs": [
    {
     "name": "stdout",
     "output_type": "stream",
     "text": [
      "<class 'pandas.core.frame.DataFrame'>\n",
      "RangeIndex: 3073 entries, 0 to 3072\n",
      "Data columns (total 6 columns):\n",
      " #   Column        Non-Null Count  Dtype  \n",
      "---  ------        --------------  -----  \n",
      " 0   type          3073 non-null   object \n",
      " 1   title         3073 non-null   object \n",
      " 2   cast          0 non-null      float64\n",
      " 3   release_year  3073 non-null   int64  \n",
      " 4   duration      2594 non-null   object \n",
      " 5   listed_in     3073 non-null   object \n",
      "dtypes: float64(1), int64(1), object(4)\n",
      "memory usage: 144.2+ KB\n"
     ]
    }
   ],
   "source": [
    "hulu_titles.info()"
   ]
  },
  {
   "cell_type": "code",
   "execution_count": 179,
   "metadata": {},
   "outputs": [
    {
     "data": {
      "text/plain": [
       "type               0\n",
       "title              0\n",
       "cast            3073\n",
       "release_year       0\n",
       "duration         479\n",
       "listed_in          0\n",
       "dtype: int64"
      ]
     },
     "execution_count": 179,
     "metadata": {},
     "output_type": "execute_result"
    }
   ],
   "source": [
    "hulu_titles.isna().sum()"
   ]
  },
  {
   "cell_type": "code",
   "execution_count": 180,
   "metadata": {},
   "outputs": [
    {
     "data": {
      "text/plain": [
       "0"
      ]
     },
     "execution_count": 180,
     "metadata": {},
     "output_type": "execute_result"
    }
   ],
   "source": [
    "\n",
    "hulu_titles.duplicated(keep=False).sum()"
   ]
  },
  {
   "cell_type": "code",
   "execution_count": 181,
   "metadata": {},
   "outputs": [],
   "source": [
    "#Reemplazo mis valores nulos por \"Sin datos\" en lugar de eliminarlos para no perder información\n",
    "hulu_titles.fillna( 'SinDatos',inplace=True)"
   ]
  },
  {
   "cell_type": "code",
   "execution_count": 182,
   "metadata": {},
   "outputs": [],
   "source": [
    "# Agrego una columna para identificar la Plataforma\n",
    "hulu_titles=hulu_titles.assign(Plataforma=\"hulu\")"
   ]
  },
  {
   "cell_type": "code",
   "execution_count": 183,
   "metadata": {},
   "outputs": [
    {
     "data": {
      "text/html": [
       "<div>\n",
       "<style scoped>\n",
       "    .dataframe tbody tr th:only-of-type {\n",
       "        vertical-align: middle;\n",
       "    }\n",
       "\n",
       "    .dataframe tbody tr th {\n",
       "        vertical-align: top;\n",
       "    }\n",
       "\n",
       "    .dataframe thead th {\n",
       "        text-align: right;\n",
       "    }\n",
       "</style>\n",
       "<table border=\"1\" class=\"dataframe\">\n",
       "  <thead>\n",
       "    <tr style=\"text-align: right;\">\n",
       "      <th></th>\n",
       "      <th>type</th>\n",
       "      <th>title</th>\n",
       "      <th>cast</th>\n",
       "      <th>release_year</th>\n",
       "      <th>duration</th>\n",
       "      <th>listed_in</th>\n",
       "      <th>Plataforma</th>\n",
       "    </tr>\n",
       "  </thead>\n",
       "  <tbody>\n",
       "    <tr>\n",
       "      <th>0</th>\n",
       "      <td>Movie</td>\n",
       "      <td>Ricky Velez: Here's Everything</td>\n",
       "      <td>SinDatos</td>\n",
       "      <td>2021</td>\n",
       "      <td>SinDatos</td>\n",
       "      <td>Comedy, Stand Up</td>\n",
       "      <td>hulu</td>\n",
       "    </tr>\n",
       "    <tr>\n",
       "      <th>1</th>\n",
       "      <td>Movie</td>\n",
       "      <td>Silent Night</td>\n",
       "      <td>SinDatos</td>\n",
       "      <td>2020</td>\n",
       "      <td>94 min</td>\n",
       "      <td>Crime, Drama, Thriller</td>\n",
       "      <td>hulu</td>\n",
       "    </tr>\n",
       "    <tr>\n",
       "      <th>2</th>\n",
       "      <td>Movie</td>\n",
       "      <td>The Marksman</td>\n",
       "      <td>SinDatos</td>\n",
       "      <td>2021</td>\n",
       "      <td>108 min</td>\n",
       "      <td>Action, Thriller</td>\n",
       "      <td>hulu</td>\n",
       "    </tr>\n",
       "    <tr>\n",
       "      <th>3</th>\n",
       "      <td>Movie</td>\n",
       "      <td>Gaia</td>\n",
       "      <td>SinDatos</td>\n",
       "      <td>2021</td>\n",
       "      <td>97 min</td>\n",
       "      <td>Horror</td>\n",
       "      <td>hulu</td>\n",
       "    </tr>\n",
       "    <tr>\n",
       "      <th>4</th>\n",
       "      <td>Movie</td>\n",
       "      <td>Settlers</td>\n",
       "      <td>SinDatos</td>\n",
       "      <td>2021</td>\n",
       "      <td>104 min</td>\n",
       "      <td>Science Fiction, Thriller</td>\n",
       "      <td>hulu</td>\n",
       "    </tr>\n",
       "    <tr>\n",
       "      <th>...</th>\n",
       "      <td>...</td>\n",
       "      <td>...</td>\n",
       "      <td>...</td>\n",
       "      <td>...</td>\n",
       "      <td>...</td>\n",
       "      <td>...</td>\n",
       "      <td>...</td>\n",
       "    </tr>\n",
       "    <tr>\n",
       "      <th>3068</th>\n",
       "      <td>TV Show</td>\n",
       "      <td>Star Trek: The Original Series</td>\n",
       "      <td>SinDatos</td>\n",
       "      <td>1966</td>\n",
       "      <td>3 Seasons</td>\n",
       "      <td>Action, Adventure, Classics</td>\n",
       "      <td>hulu</td>\n",
       "    </tr>\n",
       "    <tr>\n",
       "      <th>3069</th>\n",
       "      <td>TV Show</td>\n",
       "      <td>Star Trek: Voyager</td>\n",
       "      <td>SinDatos</td>\n",
       "      <td>1997</td>\n",
       "      <td>7 Seasons</td>\n",
       "      <td>Action, Adventure, Science Fiction</td>\n",
       "      <td>hulu</td>\n",
       "    </tr>\n",
       "    <tr>\n",
       "      <th>3070</th>\n",
       "      <td>TV Show</td>\n",
       "      <td>The Fades</td>\n",
       "      <td>SinDatos</td>\n",
       "      <td>2011</td>\n",
       "      <td>1 Season</td>\n",
       "      <td>Horror, International, Science Fiction</td>\n",
       "      <td>hulu</td>\n",
       "    </tr>\n",
       "    <tr>\n",
       "      <th>3071</th>\n",
       "      <td>TV Show</td>\n",
       "      <td>The Twilight Zone</td>\n",
       "      <td>SinDatos</td>\n",
       "      <td>1959</td>\n",
       "      <td>5 Seasons</td>\n",
       "      <td>Classics, Science Fiction, Thriller</td>\n",
       "      <td>hulu</td>\n",
       "    </tr>\n",
       "    <tr>\n",
       "      <th>3072</th>\n",
       "      <td>TV Show</td>\n",
       "      <td>Tokyo Magnitude 8.0</td>\n",
       "      <td>SinDatos</td>\n",
       "      <td>2009</td>\n",
       "      <td>1 Season</td>\n",
       "      <td>Anime, Drama, International</td>\n",
       "      <td>hulu</td>\n",
       "    </tr>\n",
       "  </tbody>\n",
       "</table>\n",
       "<p>3073 rows × 7 columns</p>\n",
       "</div>"
      ],
      "text/plain": [
       "         type                           title      cast  release_year  \\\n",
       "0       Movie  Ricky Velez: Here's Everything  SinDatos          2021   \n",
       "1       Movie                    Silent Night  SinDatos          2020   \n",
       "2       Movie                    The Marksman  SinDatos          2021   \n",
       "3       Movie                            Gaia  SinDatos          2021   \n",
       "4       Movie                        Settlers  SinDatos          2021   \n",
       "...       ...                             ...       ...           ...   \n",
       "3068  TV Show  Star Trek: The Original Series  SinDatos          1966   \n",
       "3069  TV Show              Star Trek: Voyager  SinDatos          1997   \n",
       "3070  TV Show                       The Fades  SinDatos          2011   \n",
       "3071  TV Show               The Twilight Zone  SinDatos          1959   \n",
       "3072  TV Show             Tokyo Magnitude 8.0  SinDatos          2009   \n",
       "\n",
       "       duration                               listed_in Plataforma  \n",
       "0      SinDatos                        Comedy, Stand Up       hulu  \n",
       "1        94 min                  Crime, Drama, Thriller       hulu  \n",
       "2       108 min                        Action, Thriller       hulu  \n",
       "3        97 min                                  Horror       hulu  \n",
       "4       104 min               Science Fiction, Thriller       hulu  \n",
       "...         ...                                     ...        ...  \n",
       "3068  3 Seasons             Action, Adventure, Classics       hulu  \n",
       "3069  7 Seasons      Action, Adventure, Science Fiction       hulu  \n",
       "3070   1 Season  Horror, International, Science Fiction       hulu  \n",
       "3071  5 Seasons     Classics, Science Fiction, Thriller       hulu  \n",
       "3072   1 Season             Anime, Drama, International       hulu  \n",
       "\n",
       "[3073 rows x 7 columns]"
      ]
     },
     "execution_count": 183,
     "metadata": {},
     "output_type": "execute_result"
    }
   ],
   "source": [
    "hulu_titles"
   ]
  },
  {
   "cell_type": "markdown",
   "metadata": {},
   "source": [
    "##DF Netflix"
   ]
  },
  {
   "cell_type": "code",
   "execution_count": 184,
   "metadata": {},
   "outputs": [],
   "source": [
    "netflix_titles=pd.read_json(r\"app\\netflix_titles.json\")"
   ]
  },
  {
   "cell_type": "code",
   "execution_count": 185,
   "metadata": {},
   "outputs": [
    {
     "data": {
      "text/html": [
       "<div>\n",
       "<style scoped>\n",
       "    .dataframe tbody tr th:only-of-type {\n",
       "        vertical-align: middle;\n",
       "    }\n",
       "\n",
       "    .dataframe tbody tr th {\n",
       "        vertical-align: top;\n",
       "    }\n",
       "\n",
       "    .dataframe thead th {\n",
       "        text-align: right;\n",
       "    }\n",
       "</style>\n",
       "<table border=\"1\" class=\"dataframe\">\n",
       "  <thead>\n",
       "    <tr style=\"text-align: right;\">\n",
       "      <th></th>\n",
       "      <th>show_id</th>\n",
       "      <th>type</th>\n",
       "      <th>title</th>\n",
       "      <th>director</th>\n",
       "      <th>cast</th>\n",
       "      <th>country</th>\n",
       "      <th>date_added</th>\n",
       "      <th>release_year</th>\n",
       "      <th>rating</th>\n",
       "      <th>duration</th>\n",
       "      <th>listed_in</th>\n",
       "      <th>description</th>\n",
       "    </tr>\n",
       "  </thead>\n",
       "  <tbody>\n",
       "    <tr>\n",
       "      <th>0</th>\n",
       "      <td>s1</td>\n",
       "      <td>Movie</td>\n",
       "      <td>Dick Johnson Is Dead</td>\n",
       "      <td>Kirsten Johnson</td>\n",
       "      <td>None</td>\n",
       "      <td>United States</td>\n",
       "      <td>September 25, 2021</td>\n",
       "      <td>2020</td>\n",
       "      <td>PG-13</td>\n",
       "      <td>90 min</td>\n",
       "      <td>Documentaries</td>\n",
       "      <td>As her father nears the end of his life, filmm...</td>\n",
       "    </tr>\n",
       "  </tbody>\n",
       "</table>\n",
       "</div>"
      ],
      "text/plain": [
       "  show_id   type                 title         director  cast        country  \\\n",
       "0      s1  Movie  Dick Johnson Is Dead  Kirsten Johnson  None  United States   \n",
       "\n",
       "           date_added  release_year rating duration      listed_in  \\\n",
       "0  September 25, 2021          2020  PG-13   90 min  Documentaries   \n",
       "\n",
       "                                         description  \n",
       "0  As her father nears the end of his life, filmm...  "
      ]
     },
     "execution_count": 185,
     "metadata": {},
     "output_type": "execute_result"
    }
   ],
   "source": [
    "netflix_titles.head(1\n",
    ")"
   ]
  },
  {
   "cell_type": "code",
   "execution_count": 186,
   "metadata": {},
   "outputs": [],
   "source": [
    "#Elimino las columnas que no me servirán para las consultas indicadas.\n",
    "netflix_titles.drop(columns=['show_id','director','country','rating','description','date_added'], inplace=True)"
   ]
  },
  {
   "cell_type": "code",
   "execution_count": 187,
   "metadata": {},
   "outputs": [
    {
     "name": "stdout",
     "output_type": "stream",
     "text": [
      "<class 'pandas.core.frame.DataFrame'>\n",
      "Int64Index: 8807 entries, 0 to 8806\n",
      "Data columns (total 6 columns):\n",
      " #   Column        Non-Null Count  Dtype \n",
      "---  ------        --------------  ----- \n",
      " 0   type          8807 non-null   object\n",
      " 1   title         8807 non-null   object\n",
      " 2   cast          7982 non-null   object\n",
      " 3   release_year  8807 non-null   int64 \n",
      " 4   duration      8804 non-null   object\n",
      " 5   listed_in     8807 non-null   object\n",
      "dtypes: int64(1), object(5)\n",
      "memory usage: 481.6+ KB\n"
     ]
    }
   ],
   "source": [
    "netflix_titles.info()"
   ]
  },
  {
   "cell_type": "code",
   "execution_count": 188,
   "metadata": {},
   "outputs": [
    {
     "data": {
      "text/plain": [
       "type              0\n",
       "title             0\n",
       "cast            825\n",
       "release_year      0\n",
       "duration          3\n",
       "listed_in         0\n",
       "dtype: int64"
      ]
     },
     "execution_count": 188,
     "metadata": {},
     "output_type": "execute_result"
    }
   ],
   "source": [
    "netflix_titles.isna().sum()"
   ]
  },
  {
   "cell_type": "code",
   "execution_count": 189,
   "metadata": {},
   "outputs": [],
   "source": [
    "#Reemplazo mis valores nulos por \"Sin datos\" en lugar de eliminarlos para no perder información\n",
    "netflix_titles.fillna( 'SinDatos',inplace=True)"
   ]
  },
  {
   "cell_type": "code",
   "execution_count": 190,
   "metadata": {},
   "outputs": [],
   "source": [
    "# Agrego una columna para identificar la Plataforma\n",
    "netflix_titles=netflix_titles.assign(Plataforma=\"netflix\")"
   ]
  },
  {
   "cell_type": "code",
   "execution_count": 191,
   "metadata": {},
   "outputs": [
    {
     "data": {
      "text/html": [
       "<div>\n",
       "<style scoped>\n",
       "    .dataframe tbody tr th:only-of-type {\n",
       "        vertical-align: middle;\n",
       "    }\n",
       "\n",
       "    .dataframe tbody tr th {\n",
       "        vertical-align: top;\n",
       "    }\n",
       "\n",
       "    .dataframe thead th {\n",
       "        text-align: right;\n",
       "    }\n",
       "</style>\n",
       "<table border=\"1\" class=\"dataframe\">\n",
       "  <thead>\n",
       "    <tr style=\"text-align: right;\">\n",
       "      <th></th>\n",
       "      <th>type</th>\n",
       "      <th>title</th>\n",
       "      <th>cast</th>\n",
       "      <th>release_year</th>\n",
       "      <th>duration</th>\n",
       "      <th>listed_in</th>\n",
       "      <th>Plataforma</th>\n",
       "    </tr>\n",
       "  </thead>\n",
       "  <tbody>\n",
       "    <tr>\n",
       "      <th>0</th>\n",
       "      <td>Movie</td>\n",
       "      <td>Dick Johnson Is Dead</td>\n",
       "      <td>SinDatos</td>\n",
       "      <td>2020</td>\n",
       "      <td>90 min</td>\n",
       "      <td>Documentaries</td>\n",
       "      <td>netflix</td>\n",
       "    </tr>\n",
       "  </tbody>\n",
       "</table>\n",
       "</div>"
      ],
      "text/plain": [
       "    type                 title      cast  release_year duration  \\\n",
       "0  Movie  Dick Johnson Is Dead  SinDatos          2020   90 min   \n",
       "\n",
       "       listed_in Plataforma  \n",
       "0  Documentaries    netflix  "
      ]
     },
     "execution_count": 191,
     "metadata": {},
     "output_type": "execute_result"
    }
   ],
   "source": [
    "netflix_titles.head(1)"
   ]
  },
  {
   "cell_type": "code",
   "execution_count": 192,
   "metadata": {},
   "outputs": [
    {
     "data": {
      "text/html": [
       "<div>\n",
       "<style scoped>\n",
       "    .dataframe tbody tr th:only-of-type {\n",
       "        vertical-align: middle;\n",
       "    }\n",
       "\n",
       "    .dataframe tbody tr th {\n",
       "        vertical-align: top;\n",
       "    }\n",
       "\n",
       "    .dataframe thead th {\n",
       "        text-align: right;\n",
       "    }\n",
       "</style>\n",
       "<table border=\"1\" class=\"dataframe\">\n",
       "  <thead>\n",
       "    <tr style=\"text-align: right;\">\n",
       "      <th></th>\n",
       "      <th>type</th>\n",
       "      <th>title</th>\n",
       "      <th>cast</th>\n",
       "      <th>release_year</th>\n",
       "      <th>duration</th>\n",
       "      <th>listed_in</th>\n",
       "      <th>Plataforma</th>\n",
       "    </tr>\n",
       "  </thead>\n",
       "  <tbody>\n",
       "    <tr>\n",
       "      <th>0</th>\n",
       "      <td>Movie</td>\n",
       "      <td>Duck the Halls: A Mickey Mouse Christmas Special</td>\n",
       "      <td>Chris Diamantopoulos, Tony Anselmo, Tress MacN...</td>\n",
       "      <td>2016</td>\n",
       "      <td>23 min</td>\n",
       "      <td>Animation, Family</td>\n",
       "      <td>disney</td>\n",
       "    </tr>\n",
       "  </tbody>\n",
       "</table>\n",
       "</div>"
      ],
      "text/plain": [
       "    type                                             title  \\\n",
       "0  Movie  Duck the Halls: A Mickey Mouse Christmas Special   \n",
       "\n",
       "                                                cast  release_year duration  \\\n",
       "0  Chris Diamantopoulos, Tony Anselmo, Tress MacN...          2016   23 min   \n",
       "\n",
       "           listed_in Plataforma  \n",
       "0  Animation, Family     disney  "
      ]
     },
     "execution_count": 192,
     "metadata": {},
     "output_type": "execute_result"
    }
   ],
   "source": [
    "disney_plus_titles.head(1)"
   ]
  },
  {
   "cell_type": "code",
   "execution_count": 193,
   "metadata": {},
   "outputs": [
    {
     "data": {
      "text/html": [
       "<div>\n",
       "<style scoped>\n",
       "    .dataframe tbody tr th:only-of-type {\n",
       "        vertical-align: middle;\n",
       "    }\n",
       "\n",
       "    .dataframe tbody tr th {\n",
       "        vertical-align: top;\n",
       "    }\n",
       "\n",
       "    .dataframe thead th {\n",
       "        text-align: right;\n",
       "    }\n",
       "</style>\n",
       "<table border=\"1\" class=\"dataframe\">\n",
       "  <thead>\n",
       "    <tr style=\"text-align: right;\">\n",
       "      <th></th>\n",
       "      <th>type</th>\n",
       "      <th>title</th>\n",
       "      <th>cast</th>\n",
       "      <th>release_year</th>\n",
       "      <th>duration</th>\n",
       "      <th>listed_in</th>\n",
       "      <th>Plataforma</th>\n",
       "    </tr>\n",
       "  </thead>\n",
       "  <tbody>\n",
       "    <tr>\n",
       "      <th>0</th>\n",
       "      <td>Movie</td>\n",
       "      <td>The Grand Seduction</td>\n",
       "      <td>Brendan Gleeson, Taylor Kitsch, Gordon Pinsent</td>\n",
       "      <td>2014</td>\n",
       "      <td>113 min</td>\n",
       "      <td>Comedy, Drama</td>\n",
       "      <td>amazon</td>\n",
       "    </tr>\n",
       "  </tbody>\n",
       "</table>\n",
       "</div>"
      ],
      "text/plain": [
       "    type                title                                            cast  \\\n",
       "0  Movie  The Grand Seduction  Brendan Gleeson, Taylor Kitsch, Gordon Pinsent   \n",
       "\n",
       "   release_year duration      listed_in Plataforma  \n",
       "0          2014  113 min  Comedy, Drama     amazon  "
      ]
     },
     "execution_count": 193,
     "metadata": {},
     "output_type": "execute_result"
    }
   ],
   "source": [
    "amazon_titles.head(1)"
   ]
  },
  {
   "cell_type": "code",
   "execution_count": 194,
   "metadata": {},
   "outputs": [
    {
     "data": {
      "text/html": [
       "<div>\n",
       "<style scoped>\n",
       "    .dataframe tbody tr th:only-of-type {\n",
       "        vertical-align: middle;\n",
       "    }\n",
       "\n",
       "    .dataframe tbody tr th {\n",
       "        vertical-align: top;\n",
       "    }\n",
       "\n",
       "    .dataframe thead th {\n",
       "        text-align: right;\n",
       "    }\n",
       "</style>\n",
       "<table border=\"1\" class=\"dataframe\">\n",
       "  <thead>\n",
       "    <tr style=\"text-align: right;\">\n",
       "      <th></th>\n",
       "      <th>type</th>\n",
       "      <th>title</th>\n",
       "      <th>cast</th>\n",
       "      <th>release_year</th>\n",
       "      <th>duration</th>\n",
       "      <th>listed_in</th>\n",
       "      <th>Plataforma</th>\n",
       "    </tr>\n",
       "  </thead>\n",
       "  <tbody>\n",
       "    <tr>\n",
       "      <th>0</th>\n",
       "      <td>Movie</td>\n",
       "      <td>Ricky Velez: Here's Everything</td>\n",
       "      <td>SinDatos</td>\n",
       "      <td>2021</td>\n",
       "      <td>SinDatos</td>\n",
       "      <td>Comedy, Stand Up</td>\n",
       "      <td>hulu</td>\n",
       "    </tr>\n",
       "  </tbody>\n",
       "</table>\n",
       "</div>"
      ],
      "text/plain": [
       "    type                           title      cast  release_year  duration  \\\n",
       "0  Movie  Ricky Velez: Here's Everything  SinDatos          2021  SinDatos   \n",
       "\n",
       "          listed_in Plataforma  \n",
       "0  Comedy, Stand Up       hulu  "
      ]
     },
     "execution_count": 194,
     "metadata": {},
     "output_type": "execute_result"
    }
   ],
   "source": [
    "hulu_titles.head(1)"
   ]
  },
  {
   "cell_type": "code",
   "execution_count": 195,
   "metadata": {},
   "outputs": [],
   "source": [
    "# Concatenamos las 4 tablas en un unico df\n",
    "df_completo= pd.concat([netflix_titles,hulu_titles,disney_plus_titles,amazon_titles])"
   ]
  },
  {
   "cell_type": "code",
   "execution_count": 196,
   "metadata": {},
   "outputs": [
    {
     "data": {
      "text/html": [
       "<div>\n",
       "<style scoped>\n",
       "    .dataframe tbody tr th:only-of-type {\n",
       "        vertical-align: middle;\n",
       "    }\n",
       "\n",
       "    .dataframe tbody tr th {\n",
       "        vertical-align: top;\n",
       "    }\n",
       "\n",
       "    .dataframe thead th {\n",
       "        text-align: right;\n",
       "    }\n",
       "</style>\n",
       "<table border=\"1\" class=\"dataframe\">\n",
       "  <thead>\n",
       "    <tr style=\"text-align: right;\">\n",
       "      <th></th>\n",
       "      <th>type</th>\n",
       "      <th>title</th>\n",
       "      <th>cast</th>\n",
       "      <th>release_year</th>\n",
       "      <th>duration</th>\n",
       "      <th>listed_in</th>\n",
       "      <th>Plataforma</th>\n",
       "    </tr>\n",
       "  </thead>\n",
       "  <tbody>\n",
       "    <tr>\n",
       "      <th>0</th>\n",
       "      <td>Movie</td>\n",
       "      <td>Dick Johnson Is Dead</td>\n",
       "      <td>SinDatos</td>\n",
       "      <td>2020</td>\n",
       "      <td>90 min</td>\n",
       "      <td>Documentaries</td>\n",
       "      <td>netflix</td>\n",
       "    </tr>\n",
       "  </tbody>\n",
       "</table>\n",
       "</div>"
      ],
      "text/plain": [
       "    type                 title      cast  release_year duration  \\\n",
       "0  Movie  Dick Johnson Is Dead  SinDatos          2020   90 min   \n",
       "\n",
       "       listed_in Plataforma  \n",
       "0  Documentaries    netflix  "
      ]
     },
     "execution_count": 196,
     "metadata": {},
     "output_type": "execute_result"
    }
   ],
   "source": [
    "df_completo.head(1)"
   ]
  },
  {
   "cell_type": "code",
   "execution_count": 197,
   "metadata": {},
   "outputs": [
    {
     "name": "stdout",
     "output_type": "stream",
     "text": [
      "<class 'pandas.core.frame.DataFrame'>\n",
      "Int64Index: 22998 entries, 0 to 9667\n",
      "Data columns (total 7 columns):\n",
      " #   Column        Non-Null Count  Dtype \n",
      "---  ------        --------------  ----- \n",
      " 0   type          22998 non-null  object\n",
      " 1   title         22998 non-null  object\n",
      " 2   cast          22998 non-null  object\n",
      " 3   release_year  22998 non-null  int64 \n",
      " 4   duration      22998 non-null  object\n",
      " 5   listed_in     22998 non-null  object\n",
      " 6   Plataforma    22998 non-null  object\n",
      "dtypes: int64(1), object(6)\n",
      "memory usage: 1.4+ MB\n"
     ]
    }
   ],
   "source": [
    "df_completo.info()"
   ]
  },
  {
   "cell_type": "code",
   "execution_count": 198,
   "metadata": {},
   "outputs": [],
   "source": [
    "\n",
    "df_completo.reset_index(inplace=True)"
   ]
  },
  {
   "cell_type": "code",
   "execution_count": 199,
   "metadata": {},
   "outputs": [],
   "source": [
    "# Separo mi columna 'duration' en 'duration' y 'unit'\n",
    "dfextra=df_completo.duration.str.split(expand=True)\n",
    "dfextra=dfextra.reset_index()\n",
    "dfextra[1]=dfextra[1].replace({'Season': 'Seasons'})# Normalizo el str seasons\n",
    "df_completo=pd.concat([df_completo,dfextra],axis=1)# concateno con el df principal\n",
    "df_completo.drop(columns=['duration','index'],inplace=True)# dropeo las columnas sobrantes\n"
   ]
  },
  {
   "cell_type": "code",
   "execution_count": 200,
   "metadata": {},
   "outputs": [],
   "source": [
    "df_completo=df_completo.rename(columns={0:'duration',1:'unit'})"
   ]
  },
  {
   "cell_type": "code",
   "execution_count": 201,
   "metadata": {},
   "outputs": [
    {
     "data": {
      "text/html": [
       "<div>\n",
       "<style scoped>\n",
       "    .dataframe tbody tr th:only-of-type {\n",
       "        vertical-align: middle;\n",
       "    }\n",
       "\n",
       "    .dataframe tbody tr th {\n",
       "        vertical-align: top;\n",
       "    }\n",
       "\n",
       "    .dataframe thead th {\n",
       "        text-align: right;\n",
       "    }\n",
       "</style>\n",
       "<table border=\"1\" class=\"dataframe\">\n",
       "  <thead>\n",
       "    <tr style=\"text-align: right;\">\n",
       "      <th></th>\n",
       "      <th>type</th>\n",
       "      <th>title</th>\n",
       "      <th>cast</th>\n",
       "      <th>release_year</th>\n",
       "      <th>listed_in</th>\n",
       "      <th>Plataforma</th>\n",
       "      <th>duration</th>\n",
       "      <th>unit</th>\n",
       "    </tr>\n",
       "  </thead>\n",
       "  <tbody>\n",
       "    <tr>\n",
       "      <th>0</th>\n",
       "      <td>Movie</td>\n",
       "      <td>Dick Johnson Is Dead</td>\n",
       "      <td>SinDatos</td>\n",
       "      <td>2020</td>\n",
       "      <td>Documentaries</td>\n",
       "      <td>netflix</td>\n",
       "      <td>90</td>\n",
       "      <td>min</td>\n",
       "    </tr>\n",
       "  </tbody>\n",
       "</table>\n",
       "</div>"
      ],
      "text/plain": [
       "    type                 title      cast  release_year      listed_in  \\\n",
       "0  Movie  Dick Johnson Is Dead  SinDatos          2020  Documentaries   \n",
       "\n",
       "  Plataforma duration unit  \n",
       "0    netflix       90  min  "
      ]
     },
     "execution_count": 201,
     "metadata": {},
     "output_type": "execute_result"
    }
   ],
   "source": [
    "df_completo.head(1)"
   ]
  },
  {
   "cell_type": "code",
   "execution_count": 202,
   "metadata": {},
   "outputs": [],
   "source": [
    "# Reeplazo por 0 el 'SinDatos' de la columna duration  y los none de unit \n",
    "df_completo['duration']=df_completo['duration'].replace({'SinDatos': 0})\n",
    "df_completo['unit']=df_completo['unit'].replace({None: 0})"
   ]
  },
  {
   "cell_type": "code",
   "execution_count": 203,
   "metadata": {},
   "outputs": [],
   "source": [
    "# Convierto la columna duration a int para poder comparar \n",
    "df_completo['duration']=df_completo['duration'].astype(int)"
   ]
  },
  {
   "cell_type": "code",
   "execution_count": 204,
   "metadata": {},
   "outputs": [],
   "source": [
    "# Reeplazo en la columna cast 'SinDatos' por None\n",
    "df_completo['cast']=df_completo['cast'].replace({'SinDatos':None})"
   ]
  },
  {
   "cell_type": "markdown",
   "metadata": {},
   "source": [
    "## Armo las Querrys para que me devuelvan diccionarios y se me facilite el trabajo con la API"
   ]
  },
  {
   "cell_type": "code",
   "execution_count": 205,
   "metadata": {},
   "outputs": [],
   "source": [
    "#querry 1 Máxima duración según tipo de film (película/serie), por plataforma y por año: El request debe ser: get_max_duration(año, plataforma, [min o season])\n",
    "\n",
    "\n",
    "\n",
    "def get_max_duration(ano, plataforma, min_o_season):\n",
    "  dftest=df_completo.query(f'release_year == {ano} and Plataforma == {plataforma} and unit== {min_o_season}').sort_values(by=['duration'],ascending=False)\n",
    "  respuesta=dftest[['title','duration','unit']].iloc[0]\n",
    "  respuesta=respuesta.to_dict()\n",
    "  return respuesta"
   ]
  },
  {
   "cell_type": "code",
   "execution_count": 206,
   "metadata": {},
   "outputs": [
    {
     "data": {
      "text/plain": [
       "{'title': 'Madagascar: A Little Wild', 'duration': 4, 'unit': 'Seasons'}"
      ]
     },
     "execution_count": 206,
     "metadata": {},
     "output_type": "execute_result"
    }
   ],
   "source": [
    "get_max_duration(2020,'\"hulu\"','\"Seasons\"')"
   ]
  },
  {
   "cell_type": "code",
   "execution_count": 207,
   "metadata": {},
   "outputs": [],
   "source": [
    "#querry 2 Cantidad de películas y series (separado) por plataforma El request debe ser: get_count_plataform(plataforma)"
   ]
  },
  {
   "cell_type": "code",
   "execution_count": 208,
   "metadata": {},
   "outputs": [],
   "source": [
    "def get_count_plataform(plataforma):\n",
    "   dfq2=df_completo.query(f'Plataforma == {plataforma}')\n",
    "   variable02=dfq2['type'].value_counts()\n",
    "   variable02=variable02.to_dict()\n",
    "   variable02['Plataforma']= plataforma\n",
    "   return variable02\n"
   ]
  },
  {
   "cell_type": "code",
   "execution_count": 209,
   "metadata": {},
   "outputs": [
    {
     "data": {
      "text/plain": [
       "{'Movie': 6131, 'TV Show': 2676, 'Plataforma': '\"netflix\"'}"
      ]
     },
     "execution_count": 209,
     "metadata": {},
     "output_type": "execute_result"
    }
   ],
   "source": [
    "get_count_plataform('\"netflix\"')"
   ]
  },
  {
   "cell_type": "code",
   "execution_count": 210,
   "metadata": {},
   "outputs": [],
   "source": [
    "#Cantidad de veces que se repite un género y plataforma con mayor frecuencia del mismo. El request debe ser: get_listedin('genero')\n",
    "# Como ejemplo de género pueden usar 'comedy', el cuál deberia devolverles un cunt de 2099 para la plataforma de amazon."
   ]
  },
  {
   "cell_type": "code",
   "execution_count": 216,
   "metadata": {},
   "outputs": [],
   "source": [
    "def get_listedin(genero):\n",
    "    df03=df_completo.query (f'listed_in.str.contains({genero})')\n",
    "    dtftest=df03[['Plataforma','listed_in']].groupby(['Plataforma']).count()\n",
    "    nombre=dtftest.iloc[0].name\n",
    "    cantidad=dtftest['listed_in'].iloc[0]\n",
    "    diccionario={'plataform':nombre,'cantidad':cantidad}\n",
    "    return diccionario"
   ]
  },
  {
   "cell_type": "code",
   "execution_count": 217,
   "metadata": {},
   "outputs": [
    {
     "data": {
      "text/plain": [
       "{'plataform': 'amazon', 'cantidad': 2099}"
      ]
     },
     "execution_count": 217,
     "metadata": {},
     "output_type": "execute_result"
    }
   ],
   "source": [
    "get_listedin('\"Comedy\"')"
   ]
  },
  {
   "cell_type": "code",
   "execution_count": 213,
   "metadata": {},
   "outputs": [],
   "source": [
    "#4 Actor que más se repite según plataforma y año. El request debe ser: get_actor(plataforma, año)"
   ]
  },
  {
   "cell_type": "code",
   "execution_count": 214,
   "metadata": {},
   "outputs": [],
   "source": [
    "def get_actor(plataforma,ano):\n",
    "    df04=df_completo.query(f'release_year == {ano} and Plataforma == {plataforma}' )\n",
    "    new_df = pd.DataFrame(df04[\"cast\"].str.split(',', expand=True).stack(), columns=[\"cast\"])\n",
    "    resultado=new_df.groupby([\"cast\"])[\"cast\"].count().sort_values(ascending=False)\n",
    "    dfx=pd.DataFrame(resultado)\n",
    "    nombre=dfx.iloc[0].name\n",
    "    cantidad=dfx['cast'].iloc[0]\n",
    "    diccionario={'plataform': plataforma,'cantidad': cantidad,'actores':nombre}\n",
    "    return diccionario"
   ]
  },
  {
   "cell_type": "code",
   "execution_count": 215,
   "metadata": {},
   "outputs": [
    {
     "data": {
      "text/plain": [
       "{'plataform': '\"netflix\"', 'cantidad': 8, 'actores': ' Andrea Libman'}"
      ]
     },
     "execution_count": 215,
     "metadata": {},
     "output_type": "execute_result"
    }
   ],
   "source": [
    "get_actor('\"netflix\"',2018)"
   ]
  },
  {
   "cell_type": "code",
   "execution_count": 118,
   "metadata": {},
   "outputs": [
    {
     "data": {
      "text/html": [
       "<div>\n",
       "<style scoped>\n",
       "    .dataframe tbody tr th:only-of-type {\n",
       "        vertical-align: middle;\n",
       "    }\n",
       "\n",
       "    .dataframe tbody tr th {\n",
       "        vertical-align: top;\n",
       "    }\n",
       "\n",
       "    .dataframe thead th {\n",
       "        text-align: right;\n",
       "    }\n",
       "</style>\n",
       "<table border=\"1\" class=\"dataframe\">\n",
       "  <thead>\n",
       "    <tr style=\"text-align: right;\">\n",
       "      <th></th>\n",
       "      <th>type</th>\n",
       "      <th>title</th>\n",
       "      <th>cast</th>\n",
       "      <th>release_year</th>\n",
       "      <th>listed_in</th>\n",
       "      <th>Plataforma</th>\n",
       "      <th>duration</th>\n",
       "      <th>unit</th>\n",
       "    </tr>\n",
       "  </thead>\n",
       "  <tbody>\n",
       "    <tr>\n",
       "      <th>0</th>\n",
       "      <td>Movie</td>\n",
       "      <td>Dick Johnson Is Dead</td>\n",
       "      <td>None</td>\n",
       "      <td>2020</td>\n",
       "      <td>Documentaries</td>\n",
       "      <td>netflix</td>\n",
       "      <td>90</td>\n",
       "      <td>min</td>\n",
       "    </tr>\n",
       "    <tr>\n",
       "      <th>1</th>\n",
       "      <td>TV Show</td>\n",
       "      <td>Blood &amp; Water</td>\n",
       "      <td>Ama Qamata, Khosi Ngema, Gail Mabalane, Thaban...</td>\n",
       "      <td>2021</td>\n",
       "      <td>International TV Shows, TV Dramas, TV Mysteries</td>\n",
       "      <td>netflix</td>\n",
       "      <td>2</td>\n",
       "      <td>Seasons</td>\n",
       "    </tr>\n",
       "    <tr>\n",
       "      <th>2</th>\n",
       "      <td>TV Show</td>\n",
       "      <td>Ganglands</td>\n",
       "      <td>Sami Bouajila, Tracy Gotoas, Samuel Jouy, Nabi...</td>\n",
       "      <td>2021</td>\n",
       "      <td>Crime TV Shows, International TV Shows, TV Act...</td>\n",
       "      <td>netflix</td>\n",
       "      <td>1</td>\n",
       "      <td>Seasons</td>\n",
       "    </tr>\n",
       "    <tr>\n",
       "      <th>3</th>\n",
       "      <td>TV Show</td>\n",
       "      <td>Jailbirds New Orleans</td>\n",
       "      <td>None</td>\n",
       "      <td>2021</td>\n",
       "      <td>Docuseries, Reality TV</td>\n",
       "      <td>netflix</td>\n",
       "      <td>1</td>\n",
       "      <td>Seasons</td>\n",
       "    </tr>\n",
       "    <tr>\n",
       "      <th>4</th>\n",
       "      <td>TV Show</td>\n",
       "      <td>Kota Factory</td>\n",
       "      <td>Mayur More, Jitendra Kumar, Ranjan Raj, Alam K...</td>\n",
       "      <td>2021</td>\n",
       "      <td>International TV Shows, Romantic TV Shows, TV ...</td>\n",
       "      <td>netflix</td>\n",
       "      <td>2</td>\n",
       "      <td>Seasons</td>\n",
       "    </tr>\n",
       "    <tr>\n",
       "      <th>...</th>\n",
       "      <td>...</td>\n",
       "      <td>...</td>\n",
       "      <td>...</td>\n",
       "      <td>...</td>\n",
       "      <td>...</td>\n",
       "      <td>...</td>\n",
       "      <td>...</td>\n",
       "      <td>...</td>\n",
       "    </tr>\n",
       "    <tr>\n",
       "      <th>22993</th>\n",
       "      <td>Movie</td>\n",
       "      <td>Pride Of The Bowery</td>\n",
       "      <td>Leo Gorcey, Bobby Jordan</td>\n",
       "      <td>1940</td>\n",
       "      <td>Comedy</td>\n",
       "      <td>amazon</td>\n",
       "      <td>60</td>\n",
       "      <td>min</td>\n",
       "    </tr>\n",
       "    <tr>\n",
       "      <th>22994</th>\n",
       "      <td>TV Show</td>\n",
       "      <td>Planet Patrol</td>\n",
       "      <td>DICK VOSBURGH, RONNIE STEVENS, LIBBY MORRIS, M...</td>\n",
       "      <td>2018</td>\n",
       "      <td>TV Shows</td>\n",
       "      <td>amazon</td>\n",
       "      <td>4</td>\n",
       "      <td>Seasons</td>\n",
       "    </tr>\n",
       "    <tr>\n",
       "      <th>22995</th>\n",
       "      <td>Movie</td>\n",
       "      <td>Outpost</td>\n",
       "      <td>Ray Stevenson, Julian Wadham, Richard Brake, M...</td>\n",
       "      <td>2008</td>\n",
       "      <td>Action</td>\n",
       "      <td>amazon</td>\n",
       "      <td>90</td>\n",
       "      <td>min</td>\n",
       "    </tr>\n",
       "    <tr>\n",
       "      <th>22996</th>\n",
       "      <td>TV Show</td>\n",
       "      <td>Maradona: Blessed Dream</td>\n",
       "      <td>Esteban Recagno, Ezequiel Stremiz, Luciano Vit...</td>\n",
       "      <td>2021</td>\n",
       "      <td>Drama, Sports</td>\n",
       "      <td>amazon</td>\n",
       "      <td>1</td>\n",
       "      <td>Seasons</td>\n",
       "    </tr>\n",
       "    <tr>\n",
       "      <th>22997</th>\n",
       "      <td>Movie</td>\n",
       "      <td>Harry Brown</td>\n",
       "      <td>Michael Caine, Emily Mortimer, Joseph Gilgun, ...</td>\n",
       "      <td>2010</td>\n",
       "      <td>Action, Drama, Suspense</td>\n",
       "      <td>amazon</td>\n",
       "      <td>103</td>\n",
       "      <td>min</td>\n",
       "    </tr>\n",
       "  </tbody>\n",
       "</table>\n",
       "<p>22998 rows × 8 columns</p>\n",
       "</div>"
      ],
      "text/plain": [
       "          type                    title  \\\n",
       "0        Movie     Dick Johnson Is Dead   \n",
       "1      TV Show            Blood & Water   \n",
       "2      TV Show                Ganglands   \n",
       "3      TV Show    Jailbirds New Orleans   \n",
       "4      TV Show             Kota Factory   \n",
       "...        ...                      ...   \n",
       "22993    Movie      Pride Of The Bowery   \n",
       "22994  TV Show            Planet Patrol   \n",
       "22995    Movie                  Outpost   \n",
       "22996  TV Show  Maradona: Blessed Dream   \n",
       "22997    Movie              Harry Brown   \n",
       "\n",
       "                                                    cast  release_year  \\\n",
       "0                                                   None          2020   \n",
       "1      Ama Qamata, Khosi Ngema, Gail Mabalane, Thaban...          2021   \n",
       "2      Sami Bouajila, Tracy Gotoas, Samuel Jouy, Nabi...          2021   \n",
       "3                                                   None          2021   \n",
       "4      Mayur More, Jitendra Kumar, Ranjan Raj, Alam K...          2021   \n",
       "...                                                  ...           ...   \n",
       "22993                           Leo Gorcey, Bobby Jordan          1940   \n",
       "22994  DICK VOSBURGH, RONNIE STEVENS, LIBBY MORRIS, M...          2018   \n",
       "22995  Ray Stevenson, Julian Wadham, Richard Brake, M...          2008   \n",
       "22996  Esteban Recagno, Ezequiel Stremiz, Luciano Vit...          2021   \n",
       "22997  Michael Caine, Emily Mortimer, Joseph Gilgun, ...          2010   \n",
       "\n",
       "                                               listed_in Plataforma  duration  \\\n",
       "0                                          Documentaries    netflix        90   \n",
       "1        International TV Shows, TV Dramas, TV Mysteries    netflix         2   \n",
       "2      Crime TV Shows, International TV Shows, TV Act...    netflix         1   \n",
       "3                                 Docuseries, Reality TV    netflix         1   \n",
       "4      International TV Shows, Romantic TV Shows, TV ...    netflix         2   \n",
       "...                                                  ...        ...       ...   \n",
       "22993                                             Comedy     amazon        60   \n",
       "22994                                           TV Shows     amazon         4   \n",
       "22995                                             Action     amazon        90   \n",
       "22996                                      Drama, Sports     amazon         1   \n",
       "22997                            Action, Drama, Suspense     amazon       103   \n",
       "\n",
       "          unit  \n",
       "0          min  \n",
       "1      Seasons  \n",
       "2      Seasons  \n",
       "3      Seasons  \n",
       "4      Seasons  \n",
       "...        ...  \n",
       "22993      min  \n",
       "22994  Seasons  \n",
       "22995      min  \n",
       "22996  Seasons  \n",
       "22997      min  \n",
       "\n",
       "[22998 rows x 8 columns]"
      ]
     },
     "execution_count": 118,
     "metadata": {},
     "output_type": "execute_result"
    }
   ],
   "source": [
    "df_completo"
   ]
  }
 ],
 "metadata": {
  "kernelspec": {
   "display_name": "Python 3.10.5 64-bit",
   "language": "python",
   "name": "python3"
  },
  "language_info": {
   "codemirror_mode": {
    "name": "ipython",
    "version": 3
   },
   "file_extension": ".py",
   "mimetype": "text/x-python",
   "name": "python",
   "nbconvert_exporter": "python",
   "pygments_lexer": "ipython3",
   "version": "3.10.5"
  },
  "orig_nbformat": 4,
  "vscode": {
   "interpreter": {
    "hash": "218ff13795655ce892829a4be37c87f0961fa750ebe1cb9250c6d4438d88e968"
   }
  }
 },
 "nbformat": 4,
 "nbformat_minor": 2
}
